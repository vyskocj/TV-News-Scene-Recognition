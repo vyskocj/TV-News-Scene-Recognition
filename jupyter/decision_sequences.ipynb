{
 "cells": [
  {
   "cell_type": "code",
   "execution_count": 16,
   "metadata": {
    "collapsed": true
   },
   "outputs": [],
   "source": [
    "import keras\n",
    "import os\n",
    "import cv2\n",
    "import numpy as np\n",
    "import matplotlib.pyplot as plt\n",
    "\n",
    "TYPE = \"21_vgg16\"\n",
    "\n",
    "MODELNAME = 'data\\\\model_out\\\\build_' + TYPE + '.h5'\n",
    "DATASET_IMGS = 'data\\\\dataset_test'\n",
    "HTML_FILE = 'data\\\\model_out\\\\output_build_' + TYPE + '.html'\n",
    "IMG_SHAPE = (180, 320)\n",
    "CL = ['GRA', 'HIS', 'IN', 'STUD', 'MIX', 'OUT_C', 'OUT_H', 'OTHER', 'SPE']\n",
    "CL_DICT = {0: \"Graphics [GRA]\",\n",
    "           1: \"Historic [HIS]\",\n",
    "           2: \"Indoor [IN]\",\n",
    "           3: \"Indoor studio of CZTV [STUD]\",\n",
    "           4: \"Mix [MIX]\",\n",
    "           5: \"Outdoor country [OUT_C]\",\n",
    "           6: \"Outdoor human made [OUT_H]\",\n",
    "           7: \"Scene type other [OTHER]\",\n",
    "           8: \"Speech [SPE]\"}\n",
    "\n",
    "graph = list()"
   ]
  },
  {
   "cell_type": "code",
   "execution_count": 17,
   "metadata": {},
   "outputs": [],
   "source": [
    "model = keras.models.load_model(MODELNAME)\n",
    "\n",
    "for img_name in os.listdir(DATASET_IMGS):\n",
    "    img = cv2.imread(DATASET_IMGS + '\\\\' + img_name)\n",
    "    img = cv2.resize(img, (IMG_SHAPE[1], IMG_SHAPE[0]), interpolation=cv2.INTER_CUBIC)\n",
    "    img = np.array([img])\n",
    "    img = img.astype(\"float32\")\n",
    "    img[0, ...] = np.divide(img[0, ...], 255.0)\n",
    "    \n",
    "    graph.append(np.argmax(model.predict(img)[0]))\n"
   ]
  },
  {
   "cell_type": "code",
   "execution_count": 47,
   "metadata": {},
   "outputs": [],
   "source": [
    "plt.figure(figsize=(50, 6))\n",
    "plt.plot(np.divide(range(0, len(graph)), 12.5), graph)\n",
    "plt.grid()\n",
    "plt.xlim(0, len(graph) / 12.5)\n",
    "plt.ylim(-.3, 8)\n",
    "plt.ylabel(CL)\n",
    "plt.savefig('data\\\\dec_seq.png')"
   ]
  },
  {
   "cell_type": "code",
   "execution_count": 62,
   "metadata": {},
   "outputs": [],
   "source": [
    "import xlwt\n",
    "\n",
    "book = xlwt.Workbook(encoding=\"utf-8\")\n",
    "\n",
    "sheet = book.add_sheet(\"Udalosti_casova_osa\")\n",
    "for t in range(0, len(graph)):\n",
    "    sheet.write(t, 0, t / 12.5)\n",
    "    sheet.write(t, 1, int(graph[t]))\n",
    "    \n",
    "for i in range(0, 9):\n",
    "    sheet.write(i, 3, str(i) + \": \" + CL_DICT[i])\n",
    "    \n",
    "book.save(\"data\\\\dec_seq.xls\")"
   ]
  },
  {
   "cell_type": "code",
   "execution_count": null,
   "metadata": {},
   "outputs": [],
   "source": []
  }
 ],
 "metadata": {
  "kernelspec": {
   "display_name": "Python 2",
   "language": "python",
   "name": "python2"
  },
  "language_info": {
   "codemirror_mode": {
    "name": "ipython",
    "version": 2
   },
   "file_extension": ".py",
   "mimetype": "text/x-python",
   "name": "python",
   "nbconvert_exporter": "python",
   "pygments_lexer": "ipython2",
   "version": "2.7.6"
  }
 },
 "nbformat": 4,
 "nbformat_minor": 0
}
