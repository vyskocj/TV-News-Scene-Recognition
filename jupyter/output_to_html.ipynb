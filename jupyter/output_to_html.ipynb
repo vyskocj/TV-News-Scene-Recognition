{
 "cells": [
  {
   "cell_type": "code",
   "execution_count": 11,
   "metadata": {
    "collapsed": true
   },
   "outputs": [],
   "source": [
    "import keras\n",
    "import os\n",
    "import cv2\n",
    "import numpy as np\n",
    "\n",
    "TYPE = \"5_resnet50\"\n",
    "\n",
    "MODELNAME = 'data\\\\model_out\\\\build_' + TYPE + '.h5'\n",
    "DATASET_IMGS = 'data\\\\dataset_test'\n",
    "HTML_FILE = 'data\\\\model_out\\\\output_build_' + TYPE + '.html'\n",
    "IMG_SHAPE = (180, 320)\n",
    "CL = ['GRA', 'HIS', 'IN', 'STUD', 'MIX', 'OUT_C', 'OUT_H', 'OTHER', 'SPE']"
   ]
  },
  {
   "cell_type": "code",
   "execution_count": 12,
   "metadata": {},
   "outputs": [],
   "source": [
    "model = keras.models.load_model(MODELNAME)\n",
    "with open(HTML_FILE, 'w') as file:\n",
    "    classes = range(0, len(CL))\n",
    "    \n",
    "    file.write('<html>\\n\\t<body>\\n')\n",
    "    file.write('\\t\\t<table border=\"2\">\\n')\n",
    "    file.write('\\t\\t\\t<tr>\\n')\n",
    "    file.write('\\t\\t\\t\\t<td>Image</td>\\n')\n",
    "    [file.write('\\t\\t\\t\\t<td style=\"min-width:100px\">' + CL[i] + '</td>\\n') for i in classes]\n",
    "    file.write('\\t\\t\\t\\t<td>Classification</td>\\n')\n",
    "    file.write('\\t\\t\\t</tr>\\n')\n",
    "    \n",
    "    for img_name in os.listdir(DATASET_IMGS):\n",
    "        img = cv2.imread(DATASET_IMGS + '\\\\' + img_name)\n",
    "        img = cv2.resize(img, (IMG_SHAPE[1], IMG_SHAPE[0]), interpolation=cv2.INTER_CUBIC)\n",
    "        img = np.array([img])\n",
    "        img = img.astype(\"float32\")\n",
    "        img[0, ...] = np.divide(img[0, ...], 255.0)\n",
    "        \n",
    "        network_say = model.predict(img)[0]\n",
    "        \n",
    "        file.write('\\t\\t\\t<tr>\\n')\n",
    "        file.write('\\t\\t\\t\\t<td><img src=\"..\\\\dataset_test\\\\' + img_name + '\" width=\"' + str(IMG_SHAPE[1] * 2) + '\" height=\"' + str(IMG_SHAPE[0] * 2) + '\"></td>\\n')\n",
    "        [file.write('\\t\\t\\t\\t<td>' + ('<b>' if network_say[i] == max(network_say) else '') + \n",
    "                    format(\"%.6f\" % (round(network_say[i] * 1_000_000) / 1_000_000)) +\n",
    "                    ('</b>' if network_say[i] == max(network_say) else '') + '</td>\\n') for i in classes]\n",
    "        file.write('\\t\\t\\t\\t<td>(' + CL[np.argmax(network_say)] + ')')\n",
    "        file.write('\\t\\t\\t</tr>\\n')\n",
    "        \n",
    "    file.write('\\t\\t</table>\\n')\n",
    "    file.write('\\t</body>\\n</html>')\n"
   ]
  },
  {
   "cell_type": "code",
   "execution_count": null,
   "metadata": {},
   "outputs": [],
   "source": []
  }
 ],
 "metadata": {
  "kernelspec": {
   "display_name": "Python 2",
   "language": "python",
   "name": "python2"
  },
  "language_info": {
   "codemirror_mode": {
    "name": "ipython",
    "version": 2
   },
   "file_extension": ".py",
   "mimetype": "text/x-python",
   "name": "python",
   "nbconvert_exporter": "python",
   "pygments_lexer": "ipython2",
   "version": "2.7.6"
  }
 },
 "nbformat": 4,
 "nbformat_minor": 0
}
